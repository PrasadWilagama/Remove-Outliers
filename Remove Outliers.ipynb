{
 "cells": [
  {
   "cell_type": "markdown",
   "id": "71b5dd01",
   "metadata": {},
   "source": [
    "# Importing Necessary Dependencies and load the dataset"
   ]
  },
  {
   "cell_type": "code",
   "execution_count": 1,
   "id": "8bdee7ec",
   "metadata": {},
   "outputs": [],
   "source": [
    "import pandas as pd\n",
    "import matplotlib.pyplot as plt\n",
    "import seaborn as sns\n",
    "import numpy as np"
   ]
  },
  {
   "cell_type": "code",
   "execution_count": 2,
   "id": "59253df5",
   "metadata": {},
   "outputs": [],
   "source": [
    "df_boston = pd.read_csv('Airdata.csv')"
   ]
  },
  {
   "cell_type": "markdown",
   "id": "ed6bab1e",
   "metadata": {},
   "source": [
    "# Show a preview of the dataset"
   ]
  },
  {
   "cell_type": "code",
   "execution_count": 3,
   "id": "0cb15146",
   "metadata": {},
   "outputs": [
    {
     "data": {
      "text/html": [
       "<div>\n",
       "<style scoped>\n",
       "    .dataframe tbody tr th:only-of-type {\n",
       "        vertical-align: middle;\n",
       "    }\n",
       "\n",
       "    .dataframe tbody tr th {\n",
       "        vertical-align: top;\n",
       "    }\n",
       "\n",
       "    .dataframe thead th {\n",
       "        text-align: right;\n",
       "    }\n",
       "</style>\n",
       "<table border=\"1\" class=\"dataframe\">\n",
       "  <thead>\n",
       "    <tr style=\"text-align: right;\">\n",
       "      <th></th>\n",
       "      <th>DateTime</th>\n",
       "      <th>Temperature</th>\n",
       "      <th>Humidity</th>\n",
       "      <th>Wind_Speed</th>\n",
       "      <th>Wind_Direction</th>\n",
       "      <th>NO2_Location_A</th>\n",
       "      <th>NO2_Location_B</th>\n",
       "      <th>NO2_Location_C</th>\n",
       "    </tr>\n",
       "  </thead>\n",
       "  <tbody>\n",
       "    <tr>\n",
       "      <th>0</th>\n",
       "      <td>1/1/2020 0:00</td>\n",
       "      <td>2.180529</td>\n",
       "      <td>87</td>\n",
       "      <td>1.484318</td>\n",
       "      <td>75.963760</td>\n",
       "      <td>39.23</td>\n",
       "      <td>52.88</td>\n",
       "      <td>62.37</td>\n",
       "    </tr>\n",
       "    <tr>\n",
       "      <th>1</th>\n",
       "      <td>1/1/2020 1:00</td>\n",
       "      <td>1.490529</td>\n",
       "      <td>89</td>\n",
       "      <td>2.741678</td>\n",
       "      <td>113.198590</td>\n",
       "      <td>38.30</td>\n",
       "      <td>44.95</td>\n",
       "      <td>52.53</td>\n",
       "    </tr>\n",
       "    <tr>\n",
       "      <th>2</th>\n",
       "      <td>1/1/2020 2:00</td>\n",
       "      <td>1.690529</td>\n",
       "      <td>85</td>\n",
       "      <td>3.563818</td>\n",
       "      <td>135.000000</td>\n",
       "      <td>NaN</td>\n",
       "      <td>48.40</td>\n",
       "      <td>54.80</td>\n",
       "    </tr>\n",
       "    <tr>\n",
       "      <th>3</th>\n",
       "      <td>1/1/2020 3:00</td>\n",
       "      <td>1.430529</td>\n",
       "      <td>84</td>\n",
       "      <td>2.811690</td>\n",
       "      <td>129.805570</td>\n",
       "      <td>37.28</td>\n",
       "      <td>47.18</td>\n",
       "      <td>50.80</td>\n",
       "    </tr>\n",
       "    <tr>\n",
       "      <th>4</th>\n",
       "      <td>1/1/2020 4:00</td>\n",
       "      <td>0.840529</td>\n",
       "      <td>86</td>\n",
       "      <td>1.800000</td>\n",
       "      <td>126.869896</td>\n",
       "      <td>29.97</td>\n",
       "      <td>41.48</td>\n",
       "      <td>54.43</td>\n",
       "    </tr>\n",
       "  </tbody>\n",
       "</table>\n",
       "</div>"
      ],
      "text/plain": [
       "        DateTime  Temperature  Humidity  Wind_Speed  Wind_Direction  \\\n",
       "0  1/1/2020 0:00     2.180529        87    1.484318       75.963760   \n",
       "1  1/1/2020 1:00     1.490529        89    2.741678      113.198590   \n",
       "2  1/1/2020 2:00     1.690529        85    3.563818      135.000000   \n",
       "3  1/1/2020 3:00     1.430529        84    2.811690      129.805570   \n",
       "4  1/1/2020 4:00     0.840529        86    1.800000      126.869896   \n",
       "\n",
       "   NO2_Location_A  NO2_Location_B  NO2_Location_C  \n",
       "0           39.23           52.88           62.37  \n",
       "1           38.30           44.95           52.53  \n",
       "2             NaN           48.40           54.80  \n",
       "3           37.28           47.18           50.80  \n",
       "4           29.97           41.48           54.43  "
      ]
     },
     "execution_count": 3,
     "metadata": {},
     "output_type": "execute_result"
    }
   ],
   "source": [
    "df_boston.head()"
   ]
  },
  {
   "cell_type": "markdown",
   "id": "0e74018a",
   "metadata": {},
   "source": [
    "# Generate a Box-plot for the NO2_Location_A feature"
   ]
  },
  {
   "cell_type": "code",
   "execution_count": 4,
   "id": "5c7f122d",
   "metadata": {},
   "outputs": [
    {
     "name": "stderr",
     "output_type": "stream",
     "text": [
      "C:\\Users\\Prasad D Wilagama\\anaconda3\\lib\\site-packages\\seaborn\\_decorators.py:36: FutureWarning: Pass the following variable as a keyword arg: x. From version 0.12, the only valid positional argument will be `data`, and passing other arguments without an explicit keyword will result in an error or misinterpretation.\n",
      "  warnings.warn(\n"
     ]
    },
    {
     "data": {
      "image/png": "[encoded data removed]",
      "text/plain": [
       "<Figure size 432x288 with 1 Axes>"
      ]
     },
     "metadata": {
      "needs_background": "light"
     },
     "output_type": "display_data"
    }
   ],
   "source": [
    "sns.boxplot(df_boston['NO2_Location_A'])\n",
    "plt.show()"
   ]
  },
  {
   "cell_type": "markdown",
   "id": "33e5aced",
   "metadata": {},
   "source": [
    "# Finding the IQR"
   ]
  },
  {
   "cell_type": "code",
   "execution_count": 5,
   "id": "2d4357ca",
   "metadata": {},
   "outputs": [],
   "source": [
    "percentile25 = df_boston['NO2_Location_A'].quantile(0.25)\n",
    "percentile75 = df_boston['NO2_Location_A'].quantile(0.75)"
   ]
  },
  {
   "cell_type": "code",
   "execution_count": 6,
   "id": "072bde2d",
   "metadata": {},
   "outputs": [],
   "source": [
    "iqr = percentile75-percentile25"
   ]
  },
  {
   "cell_type": "markdown",
   "id": "3acb9ddb",
   "metadata": {},
   "source": [
    "# Finding upper and lower limit"
   ]
  },
  {
   "cell_type": "code",
   "execution_count": 7,
   "id": "f675f25d",
   "metadata": {},
   "outputs": [],
   "source": [
    "upper_limit = percentile75 + (1.5 * iqr)\n",
    "lower_limit = percentile25 - (1.5 * iqr)"
   ]
  },
  {
   "cell_type": "markdown",
   "id": "415f3df8",
   "metadata": {},
   "source": [
    "# Capping"
   ]
  },
  {
   "cell_type": "code",
   "execution_count": 8,
   "id": "8417c004",
   "metadata": {},
   "outputs": [],
   "source": [
    "new_df_cap = df_boston.copy()\n",
    "new_df_cap['NO2_Location_A'] = np.where(\n",
    " new_df_cap['NO2_Location_A'] >= upper_limit, upper_limit,\n",
    " np.where(new_df_cap['NO2_Location_A'] <= lower_limit, lower_limit,\n",
    " new_df_cap['NO2_Location_A']\n",
    " )\n",
    ")"
   ]
  },
  {
   "cell_type": "markdown",
   "id": "8aa0aa3d",
   "metadata": {},
   "source": [
    "# Draw boxplot after capping"
   ]
  },
  {
   "cell_type": "code",
   "execution_count": 9,
   "id": "168d2f31",
   "metadata": {
    "scrolled": true
   },
   "outputs": [
    {
     "name": "stderr",
     "output_type": "stream",
     "text": [
      "C:\\Users\\Prasad D Wilagama\\anaconda3\\lib\\site-packages\\seaborn\\_decorators.py:36: FutureWarning: Pass the following variable as a keyword arg: x. From version 0.12, the only valid positional argument will be `data`, and passing other arguments without an explicit keyword will result in an error or misinterpretation.\n",
      "  warnings.warn(\n"
     ]
    },
    {
     "data": {
      "image/png": "[encoded data removed]",
      "text/plain": [
       "<Figure size 432x288 with 1 Axes>"
      ]
     },
     "metadata": {
      "needs_background": "light"
     },
     "output_type": "display_data"
    }
   ],
   "source": [
    "sns.boxplot(new_df_cap['NO2_Location_A'])\n",
    "plt.show()"
   ]
  },
  {
   "cell_type": "code",
   "execution_count": null,
   "id": "f1f9a92a",
   "metadata": {},
   "outputs": [],
   "source": []
  }
 ],
 "metadata": {
  "kernelspec": {
   "display_name": "Python 3",
   "language": "python",
   "name": "python3"
  },
  "language_info": {
   "codemirror_mode": {
    "name": "ipython",
    "version": 3
   },
   "file_extension": ".py",
   "mimetype": "text/x-python",
   "name": "python",
   "nbconvert_exporter": "python",
   "pygments_lexer": "ipython3",
   "version": "3.8.8"
  }
 },
 "nbformat": 4,
 "nbformat_minor": 5
}
